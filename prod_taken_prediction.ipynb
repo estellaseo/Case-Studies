{
 "cells": [
  {
   "cell_type": "markdown",
   "id": "db03333f",
   "metadata": {},
   "source": [
    "## 인코딩\n",
    "- 결측치 없는 컬럼 Label Encoder로 encoding 실행\n",
    "- 결측치 유지 후 인코딩\n",
    "- 실측치 있는 컬럼 : 수동 변환 \n",
    "\n",
    "## 이상치 처리\n",
    "- 무엇을 이상치라 간주할 수 있는지 고민해보기\n",
    "\n",
    "## 결측치 처리\n",
    "- 스케일링 진행한 dataframe, 진행하지 않은 dataframe 구분하기\n",
    "- 스케일링 진행한 df \n",
    "- (1) log 변환 + scaling o - KNN imputer 전체 적용, KNN imputer 연관성 있는 컬럼끼리 적용\n",
    "- (2) log 변환 + scaling x - 동일하게 적용\n",
    "- 스케일링 진행 x df\n",
    "- 컬럼별 특성에 따라 개별 처리\n",
    "\n",
    "## 범주화\n",
    "- age 범주화 > 범주화가 가능한 다른 컬럼은 무엇이 있는가? + 범주화 컬럼 encoding\n",
    "\n",
    "## 불균형 데이터 처리방법\n",
    "- 오버샘플링\n",
    "\n",
    "## 모델링\n",
    "- boosting 기반, tree 기반, 인공신경망"
   ]
  },
  {
   "cell_type": "markdown",
   "id": "c0528b66",
   "metadata": {},
   "source": [
    "# 패키지 불러오기"
   ]
  },
  {
   "cell_type": "code",
   "execution_count": 43,
   "id": "d36b9860",
   "metadata": {},
   "outputs": [],
   "source": [
    "import numpy as np\n",
    "import pandas as pd\n",
    "from pandas import Series, DataFrame\n",
    "\n",
    "import matplotlib.pyplot as plt\n",
    "import seaborn as sns\n",
    "from sklearn.metrics import accuracy_score\n",
    "\n",
    "from sklearn.preprocessing import LabelEncoder\n",
    "\n",
    "import warnings\n",
    "warnings.filterwarnings(action = 'ignore')\n",
    "# plt.colormaps()"
   ]
  },
  {
   "cell_type": "markdown",
   "id": "c50a82fd",
   "metadata": {},
   "source": [
    "# 데이터 로딩"
   ]
  },
  {
   "cell_type": "code",
   "execution_count": 45,
   "id": "0be80e80",
   "metadata": {},
   "outputs": [],
   "source": [
    "pd.options.display.float_format = '{:.2f}'.format\n",
    "plt.rcParams['font.family'] = 'Malgun Gothic'    \n",
    "\n",
    "train = pd.read_csv('train.csv')"
   ]
  },
  {
   "cell_type": "markdown",
   "id": "78ce24d4",
   "metadata": {},
   "source": [
    "# 결측치 확인"
   ]
  },
  {
   "cell_type": "code",
   "execution_count": 29,
   "id": "9d55822c",
   "metadata": {},
   "outputs": [
    {
     "data": {
      "text/html": [
       "<div>\n",
       "<style scoped>\n",
       "    .dataframe tbody tr th:only-of-type {\n",
       "        vertical-align: middle;\n",
       "    }\n",
       "\n",
       "    .dataframe tbody tr th {\n",
       "        vertical-align: top;\n",
       "    }\n",
       "\n",
       "    .dataframe thead th {\n",
       "        text-align: right;\n",
       "    }\n",
       "</style>\n",
       "<table border=\"1\" class=\"dataframe\">\n",
       "  <thead>\n",
       "    <tr style=\"text-align: right;\">\n",
       "      <th></th>\n",
       "      <th>dtypes</th>\n",
       "      <th>ncount</th>\n",
       "    </tr>\n",
       "  </thead>\n",
       "  <tbody>\n",
       "    <tr>\n",
       "      <th>id</th>\n",
       "      <td>int64</td>\n",
       "      <td>0</td>\n",
       "    </tr>\n",
       "    <tr>\n",
       "      <th>Age</th>\n",
       "      <td>float64</td>\n",
       "      <td>94</td>\n",
       "    </tr>\n",
       "    <tr>\n",
       "      <th>TypeofContact</th>\n",
       "      <td>object</td>\n",
       "      <td>10</td>\n",
       "    </tr>\n",
       "    <tr>\n",
       "      <th>CityTier</th>\n",
       "      <td>int64</td>\n",
       "      <td>0</td>\n",
       "    </tr>\n",
       "    <tr>\n",
       "      <th>DurationOfPitch</th>\n",
       "      <td>float64</td>\n",
       "      <td>102</td>\n",
       "    </tr>\n",
       "    <tr>\n",
       "      <th>Occupation</th>\n",
       "      <td>object</td>\n",
       "      <td>0</td>\n",
       "    </tr>\n",
       "    <tr>\n",
       "      <th>Gender</th>\n",
       "      <td>object</td>\n",
       "      <td>0</td>\n",
       "    </tr>\n",
       "    <tr>\n",
       "      <th>NumberOfPersonVisiting</th>\n",
       "      <td>int64</td>\n",
       "      <td>0</td>\n",
       "    </tr>\n",
       "    <tr>\n",
       "      <th>NumberOfFollowups</th>\n",
       "      <td>float64</td>\n",
       "      <td>13</td>\n",
       "    </tr>\n",
       "    <tr>\n",
       "      <th>ProductPitched</th>\n",
       "      <td>object</td>\n",
       "      <td>0</td>\n",
       "    </tr>\n",
       "    <tr>\n",
       "      <th>PreferredPropertyStar</th>\n",
       "      <td>float64</td>\n",
       "      <td>10</td>\n",
       "    </tr>\n",
       "    <tr>\n",
       "      <th>MaritalStatus</th>\n",
       "      <td>object</td>\n",
       "      <td>0</td>\n",
       "    </tr>\n",
       "    <tr>\n",
       "      <th>NumberOfTrips</th>\n",
       "      <td>float64</td>\n",
       "      <td>57</td>\n",
       "    </tr>\n",
       "    <tr>\n",
       "      <th>Passport</th>\n",
       "      <td>int64</td>\n",
       "      <td>0</td>\n",
       "    </tr>\n",
       "    <tr>\n",
       "      <th>PitchSatisfactionScore</th>\n",
       "      <td>int64</td>\n",
       "      <td>0</td>\n",
       "    </tr>\n",
       "    <tr>\n",
       "      <th>OwnCar</th>\n",
       "      <td>int64</td>\n",
       "      <td>0</td>\n",
       "    </tr>\n",
       "    <tr>\n",
       "      <th>NumberOfChildrenVisiting</th>\n",
       "      <td>float64</td>\n",
       "      <td>27</td>\n",
       "    </tr>\n",
       "    <tr>\n",
       "      <th>Designation</th>\n",
       "      <td>object</td>\n",
       "      <td>0</td>\n",
       "    </tr>\n",
       "    <tr>\n",
       "      <th>MonthlyIncome</th>\n",
       "      <td>float64</td>\n",
       "      <td>100</td>\n",
       "    </tr>\n",
       "    <tr>\n",
       "      <th>ProdTaken</th>\n",
       "      <td>int64</td>\n",
       "      <td>0</td>\n",
       "    </tr>\n",
       "  </tbody>\n",
       "</table>\n",
       "</div>"
      ],
      "text/plain": [
       "                           dtypes  ncount\n",
       "id                          int64       0\n",
       "Age                       float64      94\n",
       "TypeofContact              object      10\n",
       "CityTier                    int64       0\n",
       "DurationOfPitch           float64     102\n",
       "Occupation                 object       0\n",
       "Gender                     object       0\n",
       "NumberOfPersonVisiting      int64       0\n",
       "NumberOfFollowups         float64      13\n",
       "ProductPitched             object       0\n",
       "PreferredPropertyStar     float64      10\n",
       "MaritalStatus              object       0\n",
       "NumberOfTrips             float64      57\n",
       "Passport                    int64       0\n",
       "PitchSatisfactionScore      int64       0\n",
       "OwnCar                      int64       0\n",
       "NumberOfChildrenVisiting  float64      27\n",
       "Designation                object       0\n",
       "MonthlyIncome             float64     100\n",
       "ProdTaken                   int64       0"
      ]
     },
     "execution_count": 29,
     "metadata": {},
     "output_type": "execute_result"
    }
   ],
   "source": [
    "# 각 컬럼별 결측치, 데이터타입 확인 가능한 데이터프레임\n",
    "ncounts = train.isna().sum().values\n",
    "df1 = DataFrame({'dtypes' : train.dtypes, 'ncount' : ncounts})\n",
    "# 결측치가 없는 ojbect 타입의 컬럼 리스트\n",
    "char_cols = list(df1.loc[(df1['dtypes'] == 'object') & (df1['ncount'] == 0), :].index)\n",
    "df1"
   ]
  },
  {
   "cell_type": "code",
   "execution_count": 88,
   "id": "082122d6",
   "metadata": {},
   "outputs": [],
   "source": [
    "# Gender 컬럼 value 값 변환\n",
    "train['Gender'] = train['Gender'].replace('Fe Male', 'Female')\n",
    "test['Gender'] = test['Gender'].replace('Fe Male', 'Female')"
   ]
  },
  {
   "cell_type": "markdown",
   "id": "94302c10",
   "metadata": {},
   "source": [
    "# EDA"
   ]
  },
  {
   "cell_type": "code",
   "execution_count": 35,
   "id": "4644fd99",
   "metadata": {},
   "outputs": [
    {
     "data": {
      "text/plain": [
       "0    1572\n",
       "1     383\n",
       "Name: ProdTaken, dtype: int64"
      ]
     },
     "execution_count": 35,
     "metadata": {},
     "output_type": "execute_result"
    }
   ],
   "source": [
    "# 0 : 신청 안 함의 데이터 수가 1 : 신청함의 수보다 훨씬 많음\n",
    "train['ProdTaken'].value_counts()"
   ]
  },
  {
   "cell_type": "code",
   "execution_count": 40,
   "id": "77d00a03",
   "metadata": {},
   "outputs": [
    {
     "data": {
      "text/html": [
       "<div>\n",
       "<style scoped>\n",
       "    .dataframe tbody tr th:only-of-type {\n",
       "        vertical-align: middle;\n",
       "    }\n",
       "\n",
       "    .dataframe tbody tr th {\n",
       "        vertical-align: top;\n",
       "    }\n",
       "\n",
       "    .dataframe thead th {\n",
       "        text-align: right;\n",
       "    }\n",
       "</style>\n",
       "<table border=\"1\" class=\"dataframe\">\n",
       "  <thead>\n",
       "    <tr style=\"text-align: right;\">\n",
       "      <th></th>\n",
       "      <th>column</th>\n",
       "      <th>count</th>\n",
       "      <th>ratio</th>\n",
       "    </tr>\n",
       "  </thead>\n",
       "  <tbody>\n",
       "    <tr>\n",
       "      <th>0</th>\n",
       "      <td>Age</td>\n",
       "      <td>94</td>\n",
       "      <td>0.05</td>\n",
       "    </tr>\n",
       "    <tr>\n",
       "      <th>1</th>\n",
       "      <td>TypeofContact</td>\n",
       "      <td>10</td>\n",
       "      <td>0.01</td>\n",
       "    </tr>\n",
       "    <tr>\n",
       "      <th>3</th>\n",
       "      <td>DurationOfPitch</td>\n",
       "      <td>102</td>\n",
       "      <td>0.05</td>\n",
       "    </tr>\n",
       "    <tr>\n",
       "      <th>7</th>\n",
       "      <td>NumberOfFollowups</td>\n",
       "      <td>13</td>\n",
       "      <td>0.01</td>\n",
       "    </tr>\n",
       "    <tr>\n",
       "      <th>9</th>\n",
       "      <td>PreferredPropertyStar</td>\n",
       "      <td>10</td>\n",
       "      <td>0.01</td>\n",
       "    </tr>\n",
       "    <tr>\n",
       "      <th>11</th>\n",
       "      <td>NumberOfTrips</td>\n",
       "      <td>57</td>\n",
       "      <td>0.03</td>\n",
       "    </tr>\n",
       "    <tr>\n",
       "      <th>15</th>\n",
       "      <td>NumberOfChildrenVisiting</td>\n",
       "      <td>27</td>\n",
       "      <td>0.01</td>\n",
       "    </tr>\n",
       "    <tr>\n",
       "      <th>17</th>\n",
       "      <td>MonthlyIncome</td>\n",
       "      <td>100</td>\n",
       "      <td>0.05</td>\n",
       "    </tr>\n",
       "  </tbody>\n",
       "</table>\n",
       "</div>"
      ],
      "text/plain": [
       "                      column  count  ratio\n",
       "0                        Age     94   0.05\n",
       "1              TypeofContact     10   0.01\n",
       "3            DurationOfPitch    102   0.05\n",
       "7          NumberOfFollowups     13   0.01\n",
       "9      PreferredPropertyStar     10   0.01\n",
       "11             NumberOfTrips     57   0.03\n",
       "15  NumberOfChildrenVisiting     27   0.01\n",
       "17             MonthlyIncome    100   0.05"
      ]
     },
     "execution_count": 40,
     "metadata": {},
     "output_type": "execute_result"
    }
   ],
   "source": [
    "# 독립변수 결측치 비율\n",
    "missing_df = train.isnull().sum().reset_index()\n",
    "missing_df.columns = ['column', 'count']\n",
    "missing_df['ratio'] = missing_df['count'] / train.shape[0]\n",
    "missing_df.loc[missing_df['ratio'] != 0]"
   ]
  },
  {
   "cell_type": "code",
   "execution_count": 83,
   "id": "568a049e",
   "metadata": {},
   "outputs": [],
   "source": [
    "# 각 독립 변수별 종속변수 분포 비율\n",
    "def bar_chart(feature) :\n",
    "    prodnot = train[train['ProdTaken'] == 0][feature].value_counts()\n",
    "    prodtaken = train[train['ProdTaken'] == 1][feature].value_counts()\n",
    "    \n",
    "    df1 = pd.DataFrame([prodnot, prodtaken])\n",
    "    df1.index = ['Product Not Taken', 'Product Taken']\n",
    "    df1.plot(kind='bar', stacked = True, figsize = (10, 5), cmap = 'Pastel2')"
   ]
  },
  {
   "cell_type": "code",
   "execution_count": 84,
   "id": "dd08683b",
   "metadata": {},
   "outputs": [
    {
     "data": {
      "image/png": "[encoded data removed]",
      "text/plain": [
       "<Figure size 720x360 with 1 Axes>"
      ]
     },
     "metadata": {
      "needs_background": "light"
     },
     "output_type": "display_data"
    }
   ],
   "source": [
    "bar_chart('TypeofContact')"
   ]
  },
  {
   "cell_type": "code",
   "execution_count": 66,
   "id": "9a7d51ab",
   "metadata": {},
   "outputs": [
    {
     "data": {
      "text/plain": [
       "0    8\n",
       "1    2\n",
       "Name: ProdTaken, dtype: int64"
      ]
     },
     "execution_count": 66,
     "metadata": {},
     "output_type": "execute_result"
    }
   ],
   "source": [
    "# TypeofContact 컬럼의 결측치는 어느 종속 변수에서 발행했는지\n",
    "train.loc[train['TypeofContact'].isnull(), 'ProdTaken'].value_counts()"
   ]
  },
  {
   "cell_type": "code",
   "execution_count": 77,
   "id": "4a751ce5",
   "metadata": {},
   "outputs": [
    {
     "data": {
      "image/png": "[encoded data removed]",
      "text/plain": [
       "<Figure size 720x360 with 1 Axes>"
      ]
     },
     "metadata": {
      "needs_background": "light"
     },
     "output_type": "display_data"
    }
   ],
   "source": [
    "bar_chart('CityTier')"
   ]
  },
  {
   "cell_type": "code",
   "execution_count": 85,
   "id": "7f6ffb65",
   "metadata": {},
   "outputs": [
    {
     "data": {
      "image/png": "[encoded data removed]",
      "text/plain": [
       "<Figure size 720x360 with 1 Axes>"
      ]
     },
     "metadata": {
      "needs_background": "light"
     },
     "output_type": "display_data"
    }
   ],
   "source": [
    "bar_chart('Occupation')"
   ]
  },
  {
   "cell_type": "code",
   "execution_count": 152,
   "id": "e8768168",
   "metadata": {},
   "outputs": [
    {
     "data": {
      "text/html": [
       "<div>\n",
       "<style scoped>\n",
       "    .dataframe tbody tr th:only-of-type {\n",
       "        vertical-align: middle;\n",
       "    }\n",
       "\n",
       "    .dataframe tbody tr th {\n",
       "        vertical-align: top;\n",
       "    }\n",
       "\n",
       "    .dataframe thead th {\n",
       "        text-align: right;\n",
       "    }\n",
       "</style>\n",
       "<table border=\"1\" class=\"dataframe\">\n",
       "  <thead>\n",
       "    <tr style=\"text-align: right;\">\n",
       "      <th></th>\n",
       "      <th>Occupation</th>\n",
       "      <th>ProdTaken_01</th>\n",
       "      <th>ProdTaken</th>\n",
       "    </tr>\n",
       "  </thead>\n",
       "  <tbody>\n",
       "    <tr>\n",
       "      <th>0</th>\n",
       "      <td>Free Lancer</td>\n",
       "      <td>1</td>\n",
       "      <td>1</td>\n",
       "    </tr>\n",
       "    <tr>\n",
       "      <th>1</th>\n",
       "      <td>Large Business</td>\n",
       "      <td>0</td>\n",
       "      <td>116</td>\n",
       "    </tr>\n",
       "    <tr>\n",
       "      <th>2</th>\n",
       "      <td>Large Business</td>\n",
       "      <td>1</td>\n",
       "      <td>47</td>\n",
       "    </tr>\n",
       "    <tr>\n",
       "      <th>3</th>\n",
       "      <td>Salaried</td>\n",
       "      <td>0</td>\n",
       "      <td>788</td>\n",
       "    </tr>\n",
       "    <tr>\n",
       "      <th>4</th>\n",
       "      <td>Salaried</td>\n",
       "      <td>1</td>\n",
       "      <td>177</td>\n",
       "    </tr>\n",
       "    <tr>\n",
       "      <th>5</th>\n",
       "      <td>Small Business</td>\n",
       "      <td>0</td>\n",
       "      <td>668</td>\n",
       "    </tr>\n",
       "    <tr>\n",
       "      <th>6</th>\n",
       "      <td>Small Business</td>\n",
       "      <td>1</td>\n",
       "      <td>158</td>\n",
       "    </tr>\n",
       "  </tbody>\n",
       "</table>\n",
       "</div>"
      ],
      "text/plain": [
       "       Occupation  ProdTaken_01  ProdTaken\n",
       "0     Free Lancer             1          1\n",
       "1  Large Business             0        116\n",
       "2  Large Business             1         47\n",
       "3        Salaried             0        788\n",
       "4        Salaried             1        177\n",
       "5  Small Business             0        668\n",
       "6  Small Business             1        158"
      ]
     },
     "execution_count": 152,
     "metadata": {},
     "output_type": "execute_result"
    }
   ],
   "source": [
    "# 상품가입여부 > row마다 groupby 직업별 회사원, 공무원 상품가입 총수 : 두집단의 유의미한 차이가 있는가? 집단별 특정값 차이 anova 검정\n",
    "# 그룹별 상품가입 유의미한 의미가 나왔다  \n",
    "DataFrame(train.groupby('Occupation')['ProdTaken'].value_counts()).rename_axis(['Occupation', 'ProdTaken_01']).reset_index(name = k)"
   ]
  },
  {
   "cell_type": "raw",
   "id": "072007f1",
   "metadata": {},
   "source": [
    "# 교차분석\n",
    "import scipy.stats as stats\n",
    "result = pd.crosstab(train['Occupation'], train['ProdTaken'])\n",
    "result"
   ]
  },
  {
   "cell_type": "code",
   "execution_count": 113,
   "id": "b0a8ec43",
   "metadata": {},
   "outputs": [
    {
     "data": {
      "text/plain": [
       "(14.013100928739538,\n",
       " 0.002887374294640383,\n",
       " 3,\n",
       " array([[8.04092072e-01, 1.95907928e-01],\n",
       "        [1.31067008e+02, 3.19329923e+01],\n",
       "        [7.75948849e+02, 1.89051151e+02],\n",
       "        [6.64180051e+02, 1.61819949e+02]]))"
      ]
     },
     "execution_count": 113,
     "metadata": {},
     "output_type": "execute_result"
    }
   ],
   "source": [
    "stats.chi2_contingency(observed = result)"
   ]
  },
  {
   "cell_type": "code",
   "execution_count": 112,
   "id": "bfcc7c0d",
   "metadata": {},
   "outputs": [
    {
     "data": {
      "text/plain": [
       "array([['0.8040920716112532', '0.1959079283887468'],\n",
       "       ['131.06700767263428', '31.932992327365728'],\n",
       "       ['775.9488491048594', '189.05115089514067'],\n",
       "       ['664.1800511508951', '161.81994884910486']], dtype='<U32')"
      ]
     },
     "execution_count": 112,
     "metadata": {},
     "output_type": "execute_result"
    }
   ],
   "source": [
    "stats.chi2_contingency(observed = result)[3].astype('str')"
   ]
  },
  {
   "cell_type": "code",
   "execution_count": null,
   "id": "0ffc4392",
   "metadata": {},
   "outputs": [],
   "source": [
    "# 독립표본에 대한 비교\n",
    "train['Occupation']"
   ]
  },
  {
   "cell_type": "code",
   "execution_count": 89,
   "id": "c163fb5f",
   "metadata": {},
   "outputs": [
    {
     "data": {
      "image/png": "[encoded data removed]",
      "text/plain": [
       "<Figure size 720x360 with 1 Axes>"
      ]
     },
     "metadata": {
      "needs_background": "light"
     },
     "output_type": "display_data"
    }
   ],
   "source": [
    "bar_chart('Gender')"
   ]
  },
  {
   "cell_type": "code",
   "execution_count": 90,
   "id": "cd27fbb0",
   "metadata": {},
   "outputs": [
    {
     "data": {
      "image/png": "[encoded data removed]",
      "text/plain": [
       "<Figure size 720x360 with 1 Axes>"
      ]
     },
     "metadata": {
      "needs_background": "light"
     },
     "output_type": "display_data"
    }
   ],
   "source": [
    "bar_chart('NumberOfPersonVisiting')"
   ]
  },
  {
   "cell_type": "code",
   "execution_count": 91,
   "id": "7abaacc9",
   "metadata": {},
   "outputs": [
    {
     "data": {
      "text/plain": [
       "3    988\n",
       "2    543\n",
       "4    412\n",
       "1     11\n",
       "5      1\n",
       "Name: NumberOfPersonVisiting, dtype: int64"
      ]
     },
     "execution_count": 91,
     "metadata": {},
     "output_type": "execute_result"
    }
   ],
   "source": [
    "train['NumberOfPersonVisiting'].value_counts()"
   ]
  },
  {
   "cell_type": "code",
   "execution_count": 93,
   "id": "c77e6e51",
   "metadata": {},
   "outputs": [
    {
     "data": {
      "text/plain": [
       "408    0\n",
       "Name: ProdTaken, dtype: int64"
      ]
     },
     "execution_count": 93,
     "metadata": {},
     "output_type": "execute_result"
    }
   ],
   "source": [
    "# 함께 가는 인원 5명인 1 row > Prod Not Taken\n",
    "train.loc[train['NumberOfPersonVisiting'] == 5, 'ProdTaken']"
   ]
  },
  {
   "cell_type": "code",
   "execution_count": 96,
   "id": "34fa19f3",
   "metadata": {},
   "outputs": [
    {
     "data": {
      "image/png": "[encoded data removed]",
      "text/plain": [
       "<Figure size 720x360 with 1 Axes>"
      ]
     },
     "metadata": {
      "needs_background": "light"
     },
     "output_type": "display_data"
    }
   ],
   "source": [
    "bar_chart('PreferredPropertyStar')"
   ]
  },
  {
   "cell_type": "code",
   "execution_count": null,
   "id": "57edd2fa",
   "metadata": {},
   "outputs": [],
   "source": []
  },
  {
   "cell_type": "code",
   "execution_count": 98,
   "id": "4fb6beae",
   "metadata": {},
   "outputs": [
    {
     "name": "stderr",
     "output_type": "stream",
     "text": [
      "findfont: Font family ['Malgun Gothic'] not found. Falling back to DejaVu Sans.\n"
     ]
    },
    {
     "data": {
      "image/png": "[encoded data removed]",
      "text/plain": [
       "<Figure size 432x288 with 1 Axes>"
      ]
     },
     "metadata": {
      "needs_background": "light"
     },
     "output_type": "display_data"
    },
    {
     "data": {
      "image/png": "[encoded data removed]",
      "text/plain": [
       "<Figure size 432x288 with 1 Axes>"
      ]
     },
     "metadata": {
      "needs_background": "light"
     },
     "output_type": "display_data"
    },
    {
     "data": {
      "image/png": "[encoded data removed]",
      "text/plain": [
       "<Figure size 432x288 with 1 Axes>"
      ]
     },
     "metadata": {
      "needs_background": "light"
     },
     "output_type": "display_data"
    }
   ],
   "source": [
    "# 단변수 탐색\n",
    "numerical_feature = ['Age', 'DurationOfPitch', 'MonthlyIncome']\n",
    "\n",
    "for col in numerical_feature :\n",
    "    sns.distplot(train.loc[train[col].notnull(), col])\n",
    "    plt.title(col)\n",
    "    plt.show()"
   ]
  },
  {
   "cell_type": "code",
   "execution_count": 99,
   "id": "792aa7c4",
   "metadata": {},
   "outputs": [
    {
     "name": "stdout",
     "output_type": "stream",
     "text": [
      "Collecting pandas-profiling\n",
      "  Downloading pandas_profiling-3.3.0-py2.py3-none-any.whl (268 kB)\n",
      "\u001b[K     |████████████████████████████████| 268 kB 6.5 MB/s eta 0:00:01\n",
      "\u001b[?25hRequirement already satisfied: matplotlib<3.6,>=3.2 in ./opt/anaconda3/lib/python3.9/site-packages (from pandas-profiling) (3.5.1)\n",
      "Requirement already satisfied: numpy<1.24,>=1.16.0 in ./opt/anaconda3/lib/python3.9/site-packages (from pandas-profiling) (1.21.5)\n",
      "Requirement already satisfied: PyYAML<6.1,>=5.0.0 in ./opt/anaconda3/lib/python3.9/site-packages (from pandas-profiling) (6.0)\n",
      "Collecting tangled-up-in-unicode==0.2.0\n",
      "  Downloading tangled_up_in_unicode-0.2.0-py3-none-any.whl (4.7 MB)\n",
      "\u001b[K     |████████████████████████████████| 4.7 MB 67.2 MB/s eta 0:00:01\n",
      "\u001b[?25hCollecting phik<0.13,>=0.11.1\n",
      "  Downloading phik-0.12.2-cp39-cp39-macosx_10_13_x86_64.whl (694 kB)\n",
      "\u001b[K     |████████████████████████████████| 694 kB 15.9 MB/s eta 0:00:01\n",
      "\u001b[?25hRequirement already satisfied: requests<2.29,>=2.24.0 in ./opt/anaconda3/lib/python3.9/site-packages (from pandas-profiling) (2.27.1)\n",
      "Requirement already satisfied: tqdm<4.65,>=4.48.2 in ./opt/anaconda3/lib/python3.9/site-packages (from pandas-profiling) (4.64.0)\n",
      "Collecting multimethod<1.9,>=1.4\n",
      "  Downloading multimethod-1.8-py3-none-any.whl (9.8 kB)\n",
      "Collecting pydantic<1.10,>=1.8.1\n",
      "  Downloading pydantic-1.9.2-cp39-cp39-macosx_10_9_x86_64.whl (3.0 MB)\n",
      "\u001b[K     |████████████████████████████████| 3.0 MB 92.3 MB/s eta 0:00:01\n",
      "\u001b[?25hRequirement already satisfied: seaborn<0.12,>=0.10.1 in ./opt/anaconda3/lib/python3.9/site-packages (from pandas-profiling) (0.11.2)\n",
      "Requirement already satisfied: jinja2<3.2,>=2.11.1 in ./opt/anaconda3/lib/python3.9/site-packages (from pandas-profiling) (2.11.3)\n",
      "Requirement already satisfied: statsmodels<0.14,>=0.13.2 in ./opt/anaconda3/lib/python3.9/site-packages (from pandas-profiling) (0.13.2)\n",
      "Collecting visions[type_image_path]==0.7.5\n",
      "  Downloading visions-0.7.5-py3-none-any.whl (102 kB)\n",
      "\u001b[K     |████████████████████████████████| 102 kB 42.0 MB/s eta 0:00:01\n",
      "\u001b[?25hRequirement already satisfied: pandas!=1.4.0,<1.5,>1.1 in ./opt/anaconda3/lib/python3.9/site-packages (from pandas-profiling) (1.4.2)\n",
      "Requirement already satisfied: joblib~=1.1.0 in ./opt/anaconda3/lib/python3.9/site-packages (from pandas-profiling) (1.1.0)\n",
      "Collecting missingno<0.6,>=0.4.2\n",
      "  Downloading missingno-0.5.1-py3-none-any.whl (8.7 kB)\n",
      "Requirement already satisfied: scipy<1.10,>=1.4.1 in ./opt/anaconda3/lib/python3.9/site-packages (from pandas-profiling) (1.7.3)\n",
      "Collecting htmlmin==0.1.12\n",
      "  Downloading htmlmin-0.1.12.tar.gz (19 kB)\n",
      "Requirement already satisfied: attrs>=19.3.0 in ./opt/anaconda3/lib/python3.9/site-packages (from visions[type_image_path]==0.7.5->pandas-profiling) (21.4.0)\n",
      "Requirement already satisfied: networkx>=2.4 in ./opt/anaconda3/lib/python3.9/site-packages (from visions[type_image_path]==0.7.5->pandas-profiling) (2.7.1)\n",
      "Requirement already satisfied: Pillow in ./opt/anaconda3/lib/python3.9/site-packages (from visions[type_image_path]==0.7.5->pandas-profiling) (9.0.1)\n",
      "Collecting imagehash\n",
      "  Downloading ImageHash-4.3.1-py2.py3-none-any.whl (296 kB)\n",
      "\u001b[K     |████████████████████████████████| 296 kB 75.3 MB/s eta 0:00:01\n",
      "\u001b[?25hRequirement already satisfied: MarkupSafe>=0.23 in ./opt/anaconda3/lib/python3.9/site-packages (from jinja2<3.2,>=2.11.1->pandas-profiling) (2.0.1)\n",
      "Requirement already satisfied: packaging>=20.0 in ./opt/anaconda3/lib/python3.9/site-packages (from matplotlib<3.6,>=3.2->pandas-profiling) (21.3)\n",
      "Requirement already satisfied: python-dateutil>=2.7 in ./opt/anaconda3/lib/python3.9/site-packages (from matplotlib<3.6,>=3.2->pandas-profiling) (2.8.2)\n",
      "Requirement already satisfied: kiwisolver>=1.0.1 in ./opt/anaconda3/lib/python3.9/site-packages (from matplotlib<3.6,>=3.2->pandas-profiling) (1.3.2)\n",
      "Requirement already satisfied: fonttools>=4.22.0 in ./opt/anaconda3/lib/python3.9/site-packages (from matplotlib<3.6,>=3.2->pandas-profiling) (4.25.0)\n",
      "Requirement already satisfied: cycler>=0.10 in ./opt/anaconda3/lib/python3.9/site-packages (from matplotlib<3.6,>=3.2->pandas-profiling) (0.11.0)\n",
      "Requirement already satisfied: pyparsing>=2.2.1 in ./opt/anaconda3/lib/python3.9/site-packages (from matplotlib<3.6,>=3.2->pandas-profiling) (3.0.4)\n",
      "Requirement already satisfied: pytz>=2020.1 in ./opt/anaconda3/lib/python3.9/site-packages (from pandas!=1.4.0,<1.5,>1.1->pandas-profiling) (2021.3)\n",
      "Requirement already satisfied: typing-extensions>=3.7.4.3 in ./opt/anaconda3/lib/python3.9/site-packages (from pydantic<1.10,>=1.8.1->pandas-profiling) (4.1.1)\n",
      "Requirement already satisfied: six>=1.5 in ./opt/anaconda3/lib/python3.9/site-packages (from python-dateutil>=2.7->matplotlib<3.6,>=3.2->pandas-profiling) (1.16.0)\n",
      "Requirement already satisfied: urllib3<1.27,>=1.21.1 in ./opt/anaconda3/lib/python3.9/site-packages (from requests<2.29,>=2.24.0->pandas-profiling) (1.26.9)\n",
      "Requirement already satisfied: certifi>=2017.4.17 in ./opt/anaconda3/lib/python3.9/site-packages (from requests<2.29,>=2.24.0->pandas-profiling) (2021.10.8)\n",
      "Requirement already satisfied: charset-normalizer~=2.0.0 in ./opt/anaconda3/lib/python3.9/site-packages (from requests<2.29,>=2.24.0->pandas-profiling) (2.0.4)\n",
      "Requirement already satisfied: idna<4,>=2.5 in ./opt/anaconda3/lib/python3.9/site-packages (from requests<2.29,>=2.24.0->pandas-profiling) (3.3)\n",
      "Requirement already satisfied: patsy>=0.5.2 in ./opt/anaconda3/lib/python3.9/site-packages (from statsmodels<0.14,>=0.13.2->pandas-profiling) (0.5.2)\n",
      "Requirement already satisfied: PyWavelets in ./opt/anaconda3/lib/python3.9/site-packages (from imagehash->visions[type_image_path]==0.7.5->pandas-profiling) (1.3.0)\n",
      "Building wheels for collected packages: htmlmin\n",
      "  Building wheel for htmlmin (setup.py) ... \u001b[?25ldone\n",
      "\u001b[?25h  Created wheel for htmlmin: filename=htmlmin-0.1.12-py3-none-any.whl size=27096 sha256=5141b1d9efd185aa9714234fcc426cbcc0009e732caf351706011b461e580d76\n",
      "  Stored in directory: /Users/estellaseo/Library/Caches/pip/wheels/1d/05/04/c6d7d3b66539d9e659ac6dfe81e2d0fd4c1a8316cc5a403300\n",
      "Successfully built htmlmin\n",
      "Installing collected packages: tangled-up-in-unicode, multimethod, visions, imagehash, pydantic, phik, missingno, htmlmin, pandas-profiling\n",
      "Successfully installed htmlmin-0.1.12 imagehash-4.3.1 missingno-0.5.1 multimethod-1.8 pandas-profiling-3.3.0 phik-0.12.2 pydantic-1.9.2 tangled-up-in-unicode-0.2.0 visions-0.7.5\n"
     ]
    }
   ],
   "source": [
    "! pip install pandas-profiling"
   ]
  },
  {
   "cell_type": "code",
   "execution_count": 100,
   "id": "c50822e9",
   "metadata": {},
   "outputs": [],
   "source": [
    "import pandas_profiling\n",
    "from pandas_profiling import ProfileReport"
   ]
  },
  {
   "cell_type": "code",
   "execution_count": 103,
   "id": "b95a4883",
   "metadata": {},
   "outputs": [
    {
     "data": {
      "application/vnd.jupyter.widget-view+json": {
       "model_id": "aacbdccf4ba049b0860e7755125b02b8",
       "version_major": 2,
       "version_minor": 0
      },
      "text/plain": [
       "Summarize dataset:   0%|          | 0/5 [00:00<?, ?it/s]"
      ]
     },
     "metadata": {},
     "output_type": "display_data"
    },
    {
     "data": {
      "application/vnd.jupyter.widget-view+json": {
       "model_id": "df04a527b0d147388f4ba9e47b311612",
       "version_major": 2,
       "version_minor": 0
      },
      "text/plain": [
       "Generate report structure:   0%|          | 0/1 [00:00<?, ?it/s]"
      ]
     },
     "metadata": {},
     "output_type": "display_data"
    },
    {
     "data": {
      "application/vnd.jupyter.widget-view+json": {
       "model_id": "84be9d0d3c7442559132bc06ac79e7f4",
       "version_major": 2,
       "version_minor": 0
      },
      "text/plain": [
       "Render HTML:   0%|          | 0/1 [00:00<?, ?it/s]"
      ]
     },
     "metadata": {},
     "output_type": "display_data"
    },
    {
     "data": {
      "application/vnd.jupyter.widget-view+json": {
       "model_id": "d763802c8cd54585ba16b16ec46b3163",
       "version_major": 2,
       "version_minor": 0
      },
      "text/plain": [
       "Export report to file:   0%|          | 0/1 [00:00<?, ?it/s]"
      ]
     },
     "metadata": {},
     "output_type": "display_data"
    }
   ],
   "source": [
    "profile = ProfileReport(train, title = 'ProdTaken Prediction')\n",
    "profile.to_file(output_file = 'ProdTaken Prediction.html')"
   ]
  },
  {
   "cell_type": "code",
   "execution_count": null,
   "id": "9c291ae5",
   "metadata": {},
   "outputs": [],
   "source": []
  },
  {
   "cell_type": "code",
   "execution_count": null,
   "id": "71a00991",
   "metadata": {},
   "outputs": [],
   "source": []
  },
  {
   "cell_type": "code",
   "execution_count": null,
   "id": "d471e0ed",
   "metadata": {},
   "outputs": [],
   "source": []
  },
  {
   "cell_type": "markdown",
   "id": "68190408",
   "metadata": {},
   "source": [
    "# 인코딩"
   ]
  },
  {
   "cell_type": "code",
   "execution_count": 30,
   "id": "59d7f6d5",
   "metadata": {},
   "outputs": [
    {
     "name": "stdout",
     "output_type": "stream",
     "text": [
      "['Occupation', 'Gender', 'ProductPitched', 'MaritalStatus', 'Designation']\n",
      "<class 'pandas.core.frame.DataFrame'>\n",
      "RangeIndex: 1955 entries, 0 to 1954\n",
      "Data columns (total 20 columns):\n",
      " #   Column                    Non-Null Count  Dtype  \n",
      "---  ------                    --------------  -----  \n",
      " 0   id                        1955 non-null   int64  \n",
      " 1   Age                       1861 non-null   float64\n",
      " 2   TypeofContact             1945 non-null   object \n",
      " 3   CityTier                  1955 non-null   int64  \n",
      " 4   DurationOfPitch           1853 non-null   float64\n",
      " 5   Occupation                1955 non-null   int64  \n",
      " 6   Gender                    1955 non-null   int64  \n",
      " 7   NumberOfPersonVisiting    1955 non-null   int64  \n",
      " 8   NumberOfFollowups         1942 non-null   float64\n",
      " 9   ProductPitched            1955 non-null   int64  \n",
      " 10  PreferredPropertyStar     1945 non-null   float64\n",
      " 11  MaritalStatus             1955 non-null   int64  \n",
      " 12  NumberOfTrips             1898 non-null   float64\n",
      " 13  Passport                  1955 non-null   int64  \n",
      " 14  PitchSatisfactionScore    1955 non-null   int64  \n",
      " 15  OwnCar                    1955 non-null   int64  \n",
      " 16  NumberOfChildrenVisiting  1928 non-null   float64\n",
      " 17  Designation               1955 non-null   int64  \n",
      " 18  MonthlyIncome             1855 non-null   float64\n",
      " 19  ProdTaken                 1955 non-null   int64  \n",
      "dtypes: float64(7), int64(12), object(1)\n",
      "memory usage: 305.6+ KB\n"
     ]
    }
   ],
   "source": [
    "m_le = LabelEncoder()\n",
    "for i in char_cols :\n",
    "    m_le.fit(train[i])\n",
    "    train[i] = m_le.transform(train[i])\n",
    "\n",
    "print(char_cols)\n",
    "train.info()"
   ]
  },
  {
   "cell_type": "code",
   "execution_count": 15,
   "id": "41eff533",
   "metadata": {},
   "outputs": [
    {
     "data": {
      "text/plain": [
       "id                            0\n",
       "Age                          94\n",
       "TypeofContact                10\n",
       "CityTier                      0\n",
       "DurationOfPitch             102\n",
       "Occupation                    0\n",
       "Gender                        0\n",
       "NumberOfPersonVisiting        0\n",
       "NumberOfFollowups            13\n",
       "ProductPitched                0\n",
       "PreferredPropertyStar        10\n",
       "MaritalStatus                 0\n",
       "NumberOfTrips                57\n",
       "Passport                      0\n",
       "PitchSatisfactionScore        0\n",
       "OwnCar                        0\n",
       "NumberOfChildrenVisiting     27\n",
       "Designation                   0\n",
       "MonthlyIncome               100\n",
       "ProdTaken                     0\n",
       "dtype: int64"
      ]
     },
     "execution_count": 15,
     "metadata": {},
     "output_type": "execute_result"
    }
   ],
   "source": [
    "train.isna().sum()"
   ]
  },
  {
   "cell_type": "code",
   "execution_count": 31,
   "id": "90d042f7",
   "metadata": {},
   "outputs": [
    {
     "data": {
      "text/html": [
       "<div>\n",
       "<style scoped>\n",
       "    .dataframe tbody tr th:only-of-type {\n",
       "        vertical-align: middle;\n",
       "    }\n",
       "\n",
       "    .dataframe tbody tr th {\n",
       "        vertical-align: top;\n",
       "    }\n",
       "\n",
       "    .dataframe thead th {\n",
       "        text-align: right;\n",
       "    }\n",
       "</style>\n",
       "<table border=\"1\" class=\"dataframe\">\n",
       "  <thead>\n",
       "    <tr style=\"text-align: right;\">\n",
       "      <th></th>\n",
       "      <th>Age</th>\n",
       "      <th>TypeofContact</th>\n",
       "      <th>CityTier</th>\n",
       "      <th>DurationOfPitch</th>\n",
       "      <th>Occupation</th>\n",
       "      <th>Gender</th>\n",
       "      <th>NumberOfPersonVisiting</th>\n",
       "      <th>NumberOfFollowups</th>\n",
       "      <th>ProductPitched</th>\n",
       "      <th>PreferredPropertyStar</th>\n",
       "      <th>MaritalStatus</th>\n",
       "      <th>NumberOfTrips</th>\n",
       "      <th>Passport</th>\n",
       "      <th>PitchSatisfactionScore</th>\n",
       "      <th>OwnCar</th>\n",
       "      <th>NumberOfChildrenVisiting</th>\n",
       "      <th>Designation</th>\n",
       "      <th>MonthlyIncome</th>\n",
       "      <th>ProdTaken</th>\n",
       "    </tr>\n",
       "  </thead>\n",
       "  <tbody>\n",
       "    <tr>\n",
       "      <th>0</th>\n",
       "      <td>28.00</td>\n",
       "      <td>Company Invited</td>\n",
       "      <td>1</td>\n",
       "      <td>10.00</td>\n",
       "      <td>3</td>\n",
       "      <td>1</td>\n",
       "      <td>3</td>\n",
       "      <td>4.00</td>\n",
       "      <td>0</td>\n",
       "      <td>3.00</td>\n",
       "      <td>1</td>\n",
       "      <td>3.00</td>\n",
       "      <td>0</td>\n",
       "      <td>1</td>\n",
       "      <td>0</td>\n",
       "      <td>1.00</td>\n",
       "      <td>1</td>\n",
       "      <td>20384.00</td>\n",
       "      <td>0</td>\n",
       "    </tr>\n",
       "    <tr>\n",
       "      <th>1</th>\n",
       "      <td>34.00</td>\n",
       "      <td>Self Enquiry</td>\n",
       "      <td>3</td>\n",
       "      <td>NaN</td>\n",
       "      <td>3</td>\n",
       "      <td>0</td>\n",
       "      <td>2</td>\n",
       "      <td>4.00</td>\n",
       "      <td>1</td>\n",
       "      <td>4.00</td>\n",
       "      <td>2</td>\n",
       "      <td>1.00</td>\n",
       "      <td>1</td>\n",
       "      <td>5</td>\n",
       "      <td>1</td>\n",
       "      <td>0.00</td>\n",
       "      <td>2</td>\n",
       "      <td>19599.00</td>\n",
       "      <td>1</td>\n",
       "    </tr>\n",
       "    <tr>\n",
       "      <th>2</th>\n",
       "      <td>45.00</td>\n",
       "      <td>Company Invited</td>\n",
       "      <td>1</td>\n",
       "      <td>NaN</td>\n",
       "      <td>2</td>\n",
       "      <td>1</td>\n",
       "      <td>2</td>\n",
       "      <td>3.00</td>\n",
       "      <td>1</td>\n",
       "      <td>4.00</td>\n",
       "      <td>1</td>\n",
       "      <td>2.00</td>\n",
       "      <td>0</td>\n",
       "      <td>4</td>\n",
       "      <td>1</td>\n",
       "      <td>0.00</td>\n",
       "      <td>2</td>\n",
       "      <td>NaN</td>\n",
       "      <td>0</td>\n",
       "    </tr>\n",
       "    <tr>\n",
       "      <th>3</th>\n",
       "      <td>29.00</td>\n",
       "      <td>Company Invited</td>\n",
       "      <td>1</td>\n",
       "      <td>7.00</td>\n",
       "      <td>3</td>\n",
       "      <td>1</td>\n",
       "      <td>3</td>\n",
       "      <td>5.00</td>\n",
       "      <td>0</td>\n",
       "      <td>4.00</td>\n",
       "      <td>1</td>\n",
       "      <td>3.00</td>\n",
       "      <td>0</td>\n",
       "      <td>4</td>\n",
       "      <td>0</td>\n",
       "      <td>1.00</td>\n",
       "      <td>1</td>\n",
       "      <td>21274.00</td>\n",
       "      <td>1</td>\n",
       "    </tr>\n",
       "    <tr>\n",
       "      <th>4</th>\n",
       "      <td>42.00</td>\n",
       "      <td>Self Enquiry</td>\n",
       "      <td>3</td>\n",
       "      <td>6.00</td>\n",
       "      <td>2</td>\n",
       "      <td>1</td>\n",
       "      <td>2</td>\n",
       "      <td>3.00</td>\n",
       "      <td>1</td>\n",
       "      <td>3.00</td>\n",
       "      <td>0</td>\n",
       "      <td>2.00</td>\n",
       "      <td>0</td>\n",
       "      <td>3</td>\n",
       "      <td>1</td>\n",
       "      <td>0.00</td>\n",
       "      <td>2</td>\n",
       "      <td>19907.00</td>\n",
       "      <td>0</td>\n",
       "    </tr>\n",
       "  </tbody>\n",
       "</table>\n",
       "</div>"
      ],
      "text/plain": [
       "    Age    TypeofContact  CityTier  DurationOfPitch  Occupation  Gender  \\\n",
       "0 28.00  Company Invited         1            10.00           3       1   \n",
       "1 34.00     Self Enquiry         3              NaN           3       0   \n",
       "2 45.00  Company Invited         1              NaN           2       1   \n",
       "3 29.00  Company Invited         1             7.00           3       1   \n",
       "4 42.00     Self Enquiry         3             6.00           2       1   \n",
       "\n",
       "   NumberOfPersonVisiting  NumberOfFollowups  ProductPitched  \\\n",
       "0                       3               4.00               0   \n",
       "1                       2               4.00               1   \n",
       "2                       2               3.00               1   \n",
       "3                       3               5.00               0   \n",
       "4                       2               3.00               1   \n",
       "\n",
       "   PreferredPropertyStar  MaritalStatus  NumberOfTrips  Passport  \\\n",
       "0                   3.00              1           3.00         0   \n",
       "1                   4.00              2           1.00         1   \n",
       "2                   4.00              1           2.00         0   \n",
       "3                   4.00              1           3.00         0   \n",
       "4                   3.00              0           2.00         0   \n",
       "\n",
       "   PitchSatisfactionScore  OwnCar  NumberOfChildrenVisiting  Designation  \\\n",
       "0                       1       0                      1.00            1   \n",
       "1                       5       1                      0.00            2   \n",
       "2                       4       1                      0.00            2   \n",
       "3                       4       0                      1.00            1   \n",
       "4                       3       1                      0.00            2   \n",
       "\n",
       "   MonthlyIncome  ProdTaken  \n",
       "0       20384.00          0  \n",
       "1       19599.00          1  \n",
       "2            NaN          0  \n",
       "3       21274.00          1  \n",
       "4       19907.00          0  "
      ]
     },
     "execution_count": 31,
     "metadata": {},
     "output_type": "execute_result"
    }
   ],
   "source": [
    "# 쓸모없는 컬럼(id) 제거하기\n",
    "train = train.drop('id', axis = 1)\n",
    "train.head()"
   ]
  },
  {
   "cell_type": "code",
   "execution_count": 23,
   "id": "e0446ebd",
   "metadata": {},
   "outputs": [
    {
     "name": "stdout",
     "output_type": "stream",
     "text": [
      "<class 'pandas.core.frame.DataFrame'>\n",
      "RangeIndex: 1955 entries, 0 to 1954\n",
      "Data columns (total 19 columns):\n",
      " #   Column                    Non-Null Count  Dtype  \n",
      "---  ------                    --------------  -----  \n",
      " 0   Age                       1861 non-null   float64\n",
      " 1   TypeofContact             1945 non-null   object \n",
      " 2   CityTier                  1955 non-null   int64  \n",
      " 3   DurationOfPitch           1853 non-null   float64\n",
      " 4   Occupation                1955 non-null   int64  \n",
      " 5   Gender                    1955 non-null   int64  \n",
      " 6   NumberOfPersonVisiting    1955 non-null   int64  \n",
      " 7   NumberOfFollowups         1942 non-null   float64\n",
      " 8   ProductPitched            1955 non-null   int64  \n",
      " 9   PreferredPropertyStar     1945 non-null   float64\n",
      " 10  MaritalStatus             1955 non-null   int64  \n",
      " 11  NumberOfTrips             1898 non-null   float64\n",
      " 12  Passport                  1955 non-null   int64  \n",
      " 13  PitchSatisfactionScore    1955 non-null   int64  \n",
      " 14  OwnCar                    1955 non-null   int64  \n",
      " 15  NumberOfChildrenVisiting  1928 non-null   float64\n",
      " 16  Designation               1955 non-null   int64  \n",
      " 17  MonthlyIncome             1855 non-null   float64\n",
      " 18  ProdTaken                 1955 non-null   int64  \n",
      "dtypes: float64(7), int64(11), object(1)\n",
      "memory usage: 290.3+ KB\n"
     ]
    }
   ],
   "source": [
    "# manual encoding이 필요한 컬럼 : TypeofContact\n",
    "train.info()"
   ]
  },
  {
   "cell_type": "code",
   "execution_count": 25,
   "id": "cd2405eb",
   "metadata": {},
   "outputs": [
    {
     "data": {
      "text/plain": [
       "array(['Company Invited', 'Self Enquiry', nan], dtype=object)"
      ]
     },
     "execution_count": 25,
     "metadata": {},
     "output_type": "execute_result"
    }
   ],
   "source": [
    "train['TypeofContact'].unique()"
   ]
  },
  {
   "cell_type": "code",
   "execution_count": 34,
   "id": "a7e297ba",
   "metadata": {},
   "outputs": [
    {
     "data": {
      "text/html": [
       "<div>\n",
       "<style scoped>\n",
       "    .dataframe tbody tr th:only-of-type {\n",
       "        vertical-align: middle;\n",
       "    }\n",
       "\n",
       "    .dataframe tbody tr th {\n",
       "        vertical-align: top;\n",
       "    }\n",
       "\n",
       "    .dataframe thead th {\n",
       "        text-align: right;\n",
       "    }\n",
       "</style>\n",
       "<table border=\"1\" class=\"dataframe\">\n",
       "  <thead>\n",
       "    <tr style=\"text-align: right;\">\n",
       "      <th></th>\n",
       "      <th>Age</th>\n",
       "      <th>TypeofContact</th>\n",
       "      <th>CityTier</th>\n",
       "      <th>DurationOfPitch</th>\n",
       "      <th>Occupation</th>\n",
       "      <th>Gender</th>\n",
       "      <th>NumberOfPersonVisiting</th>\n",
       "      <th>NumberOfFollowups</th>\n",
       "      <th>ProductPitched</th>\n",
       "      <th>PreferredPropertyStar</th>\n",
       "      <th>MaritalStatus</th>\n",
       "      <th>NumberOfTrips</th>\n",
       "      <th>Passport</th>\n",
       "      <th>PitchSatisfactionScore</th>\n",
       "      <th>OwnCar</th>\n",
       "      <th>NumberOfChildrenVisiting</th>\n",
       "      <th>Designation</th>\n",
       "      <th>MonthlyIncome</th>\n",
       "      <th>ProdTaken</th>\n",
       "    </tr>\n",
       "  </thead>\n",
       "  <tbody>\n",
       "    <tr>\n",
       "      <th>0</th>\n",
       "      <td>28.00</td>\n",
       "      <td>0.00</td>\n",
       "      <td>1</td>\n",
       "      <td>10.00</td>\n",
       "      <td>3</td>\n",
       "      <td>1</td>\n",
       "      <td>3</td>\n",
       "      <td>4.00</td>\n",
       "      <td>0</td>\n",
       "      <td>3.00</td>\n",
       "      <td>1</td>\n",
       "      <td>3.00</td>\n",
       "      <td>0</td>\n",
       "      <td>1</td>\n",
       "      <td>0</td>\n",
       "      <td>1.00</td>\n",
       "      <td>1</td>\n",
       "      <td>20384.00</td>\n",
       "      <td>0</td>\n",
       "    </tr>\n",
       "    <tr>\n",
       "      <th>1</th>\n",
       "      <td>34.00</td>\n",
       "      <td>1.00</td>\n",
       "      <td>3</td>\n",
       "      <td>NaN</td>\n",
       "      <td>3</td>\n",
       "      <td>0</td>\n",
       "      <td>2</td>\n",
       "      <td>4.00</td>\n",
       "      <td>1</td>\n",
       "      <td>4.00</td>\n",
       "      <td>2</td>\n",
       "      <td>1.00</td>\n",
       "      <td>1</td>\n",
       "      <td>5</td>\n",
       "      <td>1</td>\n",
       "      <td>0.00</td>\n",
       "      <td>2</td>\n",
       "      <td>19599.00</td>\n",
       "      <td>1</td>\n",
       "    </tr>\n",
       "    <tr>\n",
       "      <th>2</th>\n",
       "      <td>45.00</td>\n",
       "      <td>0.00</td>\n",
       "      <td>1</td>\n",
       "      <td>NaN</td>\n",
       "      <td>2</td>\n",
       "      <td>1</td>\n",
       "      <td>2</td>\n",
       "      <td>3.00</td>\n",
       "      <td>1</td>\n",
       "      <td>4.00</td>\n",
       "      <td>1</td>\n",
       "      <td>2.00</td>\n",
       "      <td>0</td>\n",
       "      <td>4</td>\n",
       "      <td>1</td>\n",
       "      <td>0.00</td>\n",
       "      <td>2</td>\n",
       "      <td>NaN</td>\n",
       "      <td>0</td>\n",
       "    </tr>\n",
       "    <tr>\n",
       "      <th>3</th>\n",
       "      <td>29.00</td>\n",
       "      <td>0.00</td>\n",
       "      <td>1</td>\n",
       "      <td>7.00</td>\n",
       "      <td>3</td>\n",
       "      <td>1</td>\n",
       "      <td>3</td>\n",
       "      <td>5.00</td>\n",
       "      <td>0</td>\n",
       "      <td>4.00</td>\n",
       "      <td>1</td>\n",
       "      <td>3.00</td>\n",
       "      <td>0</td>\n",
       "      <td>4</td>\n",
       "      <td>0</td>\n",
       "      <td>1.00</td>\n",
       "      <td>1</td>\n",
       "      <td>21274.00</td>\n",
       "      <td>1</td>\n",
       "    </tr>\n",
       "    <tr>\n",
       "      <th>4</th>\n",
       "      <td>42.00</td>\n",
       "      <td>1.00</td>\n",
       "      <td>3</td>\n",
       "      <td>6.00</td>\n",
       "      <td>2</td>\n",
       "      <td>1</td>\n",
       "      <td>2</td>\n",
       "      <td>3.00</td>\n",
       "      <td>1</td>\n",
       "      <td>3.00</td>\n",
       "      <td>0</td>\n",
       "      <td>2.00</td>\n",
       "      <td>0</td>\n",
       "      <td>3</td>\n",
       "      <td>1</td>\n",
       "      <td>0.00</td>\n",
       "      <td>2</td>\n",
       "      <td>19907.00</td>\n",
       "      <td>0</td>\n",
       "    </tr>\n",
       "  </tbody>\n",
       "</table>\n",
       "</div>"
      ],
      "text/plain": [
       "    Age  TypeofContact  CityTier  DurationOfPitch  Occupation  Gender  \\\n",
       "0 28.00           0.00         1            10.00           3       1   \n",
       "1 34.00           1.00         3              NaN           3       0   \n",
       "2 45.00           0.00         1              NaN           2       1   \n",
       "3 29.00           0.00         1             7.00           3       1   \n",
       "4 42.00           1.00         3             6.00           2       1   \n",
       "\n",
       "   NumberOfPersonVisiting  NumberOfFollowups  ProductPitched  \\\n",
       "0                       3               4.00               0   \n",
       "1                       2               4.00               1   \n",
       "2                       2               3.00               1   \n",
       "3                       3               5.00               0   \n",
       "4                       2               3.00               1   \n",
       "\n",
       "   PreferredPropertyStar  MaritalStatus  NumberOfTrips  Passport  \\\n",
       "0                   3.00              1           3.00         0   \n",
       "1                   4.00              2           1.00         1   \n",
       "2                   4.00              1           2.00         0   \n",
       "3                   4.00              1           3.00         0   \n",
       "4                   3.00              0           2.00         0   \n",
       "\n",
       "   PitchSatisfactionScore  OwnCar  NumberOfChildrenVisiting  Designation  \\\n",
       "0                       1       0                      1.00            1   \n",
       "1                       5       1                      0.00            2   \n",
       "2                       4       1                      0.00            2   \n",
       "3                       4       0                      1.00            1   \n",
       "4                       3       1                      0.00            2   \n",
       "\n",
       "   MonthlyIncome  ProdTaken  \n",
       "0       20384.00          0  \n",
       "1       19599.00          1  \n",
       "2            NaN          0  \n",
       "3       21274.00          1  \n",
       "4       19907.00          0  "
      ]
     },
     "execution_count": 34,
     "metadata": {},
     "output_type": "execute_result"
    }
   ],
   "source": [
    "train['TypeofContact'] = train['TypeofContact'].replace('Company Invited', 0)\n",
    "train['TypeofContact'] = train['TypeofContact'].replace('Self Enquiry', 1)\n",
    "train['TypeofContact'] = train['TypeofContact'].astype('float')\n",
    "train.head()"
   ]
  },
  {
   "cell_type": "code",
   "execution_count": null,
   "id": "144a1804",
   "metadata": {},
   "outputs": [],
   "source": []
  },
  {
   "cell_type": "code",
   "execution_count": null,
   "id": "df79b803",
   "metadata": {},
   "outputs": [],
   "source": []
  },
  {
   "cell_type": "code",
   "execution_count": null,
   "id": "b0f89ce2",
   "metadata": {},
   "outputs": [],
   "source": []
  },
  {
   "cell_type": "code",
   "execution_count": null,
   "id": "8cd65eec",
   "metadata": {},
   "outputs": [],
   "source": []
  },
  {
   "cell_type": "code",
   "execution_count": null,
   "id": "e2ef30d1",
   "metadata": {},
   "outputs": [],
   "source": []
  },
  {
   "cell_type": "code",
   "execution_count": null,
   "id": "4f8e9ae0",
   "metadata": {},
   "outputs": [],
   "source": []
  },
  {
   "cell_type": "code",
   "execution_count": null,
   "id": "fb4de223",
   "metadata": {},
   "outputs": [],
   "source": []
  },
  {
   "cell_type": "code",
   "execution_count": null,
   "id": "6ac7dee7",
   "metadata": {},
   "outputs": [],
   "source": []
  },
  {
   "cell_type": "code",
   "execution_count": null,
   "id": "385c5c78",
   "metadata": {},
   "outputs": [],
   "source": []
  },
  {
   "cell_type": "code",
   "execution_count": null,
   "id": "534184d2",
   "metadata": {},
   "outputs": [],
   "source": []
  },
  {
   "cell_type": "code",
   "execution_count": null,
   "id": "65c3f213",
   "metadata": {},
   "outputs": [],
   "source": []
  }
 ],
 "metadata": {
  "kernelspec": {
   "display_name": "Python 3 (ipykernel)",
   "language": "python",
   "name": "python3"
  },
  "language_info": {
   "codemirror_mode": {
    "name": "ipython",
    "version": 3
   },
   "file_extension": ".py",
   "mimetype": "text/x-python",
   "name": "python",
   "nbconvert_exporter": "python",
   "pygments_lexer": "ipython3",
   "version": "3.9.12"
  }
 },
 "nbformat": 4,
 "nbformat_minor": 5
}
